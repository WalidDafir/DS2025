{
  "nbformat": 4,
  "nbformat_minor": 0,
  "metadata": {
    "colab": {
      "provenance": []
    },
    "kernelspec": {
      "name": "python3",
      "display_name": "Python 3"
    },
    "language_info": {
      "name": "python"
    }
  },
  "cells": [
    {
      "cell_type": "code",
      "source": [
        "from IPython.display import Markdown, display\n",
        "\n",
        "rapport_pib_markdown = \"\"\"\n",
        "# Rapport sur le PIB mondial 2024\n",
        "\n",
        "## Aperçu global\n",
        "- Le PIB mondial nominal atteint environ 111 326 milliards de dollars américains en 2024.\n",
        "- La croissance économique mondiale est estimée à 3,2 % en 2024, avec des disparités régionales importantes.\n",
        "- L'inflation tend à se stabiliser après les perturbations liées à la pandémie et aux tensions géopolitiques.\n",
        "\n",
        "## Principales puissances économiques (PIB nominal 2023-2024)\n",
        "\n",
        "| Rang | Pays          | PIB 2023 (milliards $) | Croissance prévue 2024 (%) |\n",
        "|-------|--------------|------------------------|----------------------------|\n",
        "| 1     | États-Unis   | 26 185                 | 2,1 %                      |\n",
        "| 2     | Chine        | 21 643                 | 4,7 %                      |\n",
        "| 3     | Japon        | 4 365                  | 1,0 %                      |\n",
        "| 4     | Allemagne    | 4 120                  | 0,3 %                      |\n",
        "| 5     | Inde         | 3 820                  | 6,2 %                      |\n",
        "| 6     | Royaume-Uni  | 3 479                  | 0,7 %                      |\n",
        "| 7     | France       | 2 806                  | 0,6 %                      |\n",
        "| 8     | Canada       | 2 326                  | 0,9 %                      |\n",
        "| 9     | Russie       | 2 136                  | 1,8 %                      |\n",
        "| 10    | Brésil       | 2 059                  | 1,8 %                      |\n",
        "\n",
        "## PIB par habitant (2024)\n",
        "\n",
        "| Pays        | PIB par habitant (USD) |\n",
        "|-------------|------------------------|\n",
        "| Luxembourg  | 135 605                |\n",
        "| Irlande     | 112 247                |\n",
        "| Suisse      | 102 865                |\n",
        "| Norvège     | 99 266                 |\n",
        "| Singapour   | 87 884                 |\n",
        "| États-Unis  | 80 412                 |\n",
        "\n",
        "## Conclusion\n",
        "- L’économie mondiale poursuit une croissance modérée en 2024 avec un taux de 3,2 %.\n",
        "- Les États-Unis, la Chine et l’Inde restent les leaders économiques avec des croissances contrastées.\n",
        "- Les incertitudes géopolitiques et les questions d’inflation restent des défis pour la croissance future.\n",
        "\n",
        "---\n",
        "Sources : Données issues des rapports et projections économiques 2024 (OCDE, FMI, Banque mondiale).\n",
        "\"\"\"\n",
        "\n",
        "display(Markdown(rapport_pib_markdown))\n"
      ],
      "metadata": {
        "colab": {
          "base_uri": "https://localhost:8080/",
          "height": 973
        },
        "id": "8_lYO-bmsZGE",
        "outputId": "b6c94aad-2371-473a-84c7-5b0d196dbb45"
      },
      "execution_count": 2,
      "outputs": [
        {
          "output_type": "display_data",
          "data": {
            "text/plain": [
              "<IPython.core.display.Markdown object>"
            ],
            "text/markdown": "\n# Rapport sur le PIB mondial 2024\n\n## Aperçu global\n- Le PIB mondial nominal atteint environ 111 326 milliards de dollars américains en 2024.\n- La croissance économique mondiale est estimée à 3,2 % en 2024, avec des disparités régionales importantes.\n- L'inflation tend à se stabiliser après les perturbations liées à la pandémie et aux tensions géopolitiques.\n\n## Principales puissances économiques (PIB nominal 2023-2024)\n\n| Rang | Pays          | PIB 2023 (milliards $) | Croissance prévue 2024 (%) |\n|-------|--------------|------------------------|----------------------------|\n| 1     | États-Unis   | 26 185                 | 2,1 %                      |\n| 2     | Chine        | 21 643                 | 4,7 %                      |\n| 3     | Japon        | 4 365                  | 1,0 %                      |\n| 4     | Allemagne    | 4 120                  | 0,3 %                      |\n| 5     | Inde         | 3 820                  | 6,2 %                      |\n| 6     | Royaume-Uni  | 3 479                  | 0,7 %                      |\n| 7     | France       | 2 806                  | 0,6 %                      |\n| 8     | Canada       | 2 326                  | 0,9 %                      |\n| 9     | Russie       | 2 136                  | 1,8 %                      |\n| 10    | Brésil       | 2 059                  | 1,8 %                      |\n\n## PIB par habitant (2024)\n\n| Pays        | PIB par habitant (USD) |\n|-------------|------------------------|\n| Luxembourg  | 135 605                |\n| Irlande     | 112 247                |\n| Suisse      | 102 865                |\n| Norvège     | 99 266                 |\n| Singapour   | 87 884                 |\n| États-Unis  | 80 412                 |\n\n## Conclusion\n- L’économie mondiale poursuit une croissance modérée en 2024 avec un taux de 3,2 %.\n- Les États-Unis, la Chine et l’Inde restent les leaders économiques avec des croissances contrastées.\n- Les incertitudes géopolitiques et les questions d’inflation restent des défis pour la croissance future.\n\n---\nSources : Données issues des rapports et projections économiques 2024 (OCDE, FMI, Banque mondiale).\n"
          },
          "metadata": {}
        }
      ]
    }
  ]
}